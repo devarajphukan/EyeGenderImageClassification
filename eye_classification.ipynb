{
 "cells": [
  {
   "cell_type": "markdown",
   "id": "dried-grade",
   "metadata": {},
   "source": [
    "### Building the dataset "
   ]
  },
  {
   "cell_type": "code",
   "execution_count": 1,
   "id": "humanitarian-light",
   "metadata": {},
   "outputs": [],
   "source": [
    "import os\n",
    "import cv2\n",
    "import numpy as np\n",
    "from tqdm import tqdm\n",
    "import warnings\n",
    "warnings.filterwarnings('ignore')"
   ]
  },
  {
   "cell_type": "code",
   "execution_count": 2,
   "id": "african-reader",
   "metadata": {},
   "outputs": [],
   "source": [
    "REBUILD_DATA = False"
   ]
  },
  {
   "cell_type": "code",
   "execution_count": 3,
   "id": "obvious-motivation",
   "metadata": {},
   "outputs": [],
   "source": [
    "class FemaleVsMaleEyes():\n",
    "    \n",
    "    IMG_SIZE = 50\n",
    "    FEMALES = \"femaleeyes\"\n",
    "    MALES = \"maleeyes\"\n",
    "    LABELS = {FEMALES: 0, MALES: 1}\n",
    "    training_data = []\n",
    "\n",
    "    femalecount = 0\n",
    "    malecount = 0\n",
    "\n",
    "    def make_training_data(self):\n",
    "        for label in self.LABELS:\n",
    "            print(label)\n",
    "            for f in tqdm(os.listdir(label)):\n",
    "                if \"jpg\" in f:\n",
    "                    try:\n",
    "                        path = os.path.join(label, f)\n",
    "                        img = cv2.imread(path, cv2.IMREAD_GRAYSCALE)\n",
    "                        img = cv2.resize(img, (self.IMG_SIZE, self.IMG_SIZE))\n",
    "                        self.training_data.append([np.array(img), np.eye(2)[self.LABELS[label]]])\n",
    "\n",
    "                        if label == self.FEMALES:\n",
    "                            self.femalecount += 1\n",
    "                        elif label == self.MALES:\n",
    "                            self.malecount += 1\n",
    "\n",
    "                    except Exception as e:\n",
    "                        pass\n",
    "\n",
    "        np.random.shuffle(self.training_data)\n",
    "        np.save(\"training_data.npy\", self.training_data)\n",
    "                "
   ]
  },
  {
   "cell_type": "code",
   "execution_count": 4,
   "id": "future-apple",
   "metadata": {},
   "outputs": [],
   "source": [
    "if REBUILD_DATA:\n",
    "    femalevsmaleEyes = FemaleVsMaleEyes()\n",
    "    femalevsmaleEyes.make_training_data()\n",
    "    \n",
    "    print('Females:',femalevsmaleEyes.femalecount)\n",
    "    print('Males:',femalevsmaleEyes.malecount)"
   ]
  },
  {
   "cell_type": "code",
   "execution_count": 5,
   "id": "historical-requirement",
   "metadata": {},
   "outputs": [
    {
     "name": "stdout",
     "output_type": "stream",
     "text": [
      "11525\n"
     ]
    }
   ],
   "source": [
    "training_data = np.load(\"training_data.npy\", allow_pickle = True)\n",
    "print(len(training_data))"
   ]
  },
  {
   "cell_type": "markdown",
   "id": "corrected-order",
   "metadata": {},
   "source": [
    "### Checking a random picture"
   ]
  },
  {
   "cell_type": "code",
   "execution_count": 32,
   "id": "becoming-profession",
   "metadata": {},
   "outputs": [
    {
     "data": {
      "image/png": "[encoded data removed]",
      "text/plain": [
       "<Figure size 432x288 with 1 Axes>"
      ]
     },
     "metadata": {
      "needs_background": "light"
     },
     "output_type": "display_data"
    },
    {
     "name": "stdout",
     "output_type": "stream",
     "text": [
      "Female Eye\n"
     ]
    }
   ],
   "source": [
    "import matplotlib.pyplot as plt\n",
    "\n",
    "random_sample = np.random.randint(len(training_data))\n",
    "\n",
    "plt.imshow(training_data[random_sample][0], cmap = \"gray\")\n",
    "plt.show()\n",
    "\n",
    "if training_data[random_sample][1][0] == 0: print(\"Male Eye\")\n",
    "else: print(\"Female Eye\")"
   ]
  },
  {
   "cell_type": "markdown",
   "id": "emotional-adams",
   "metadata": {},
   "source": [
    "### Building the Neural Network"
   ]
  },
  {
   "cell_type": "code",
   "execution_count": 7,
   "id": "satellite-appraisal",
   "metadata": {},
   "outputs": [],
   "source": [
    "import torch\n",
    "import torch.nn as nn\n",
    "import torch.nn.functional as F\n",
    "\n",
    "\n",
    "class Net(nn.Module):\n",
    "    def __init__(self):\n",
    "        super().__init__() \n",
    "        self.conv1 = nn.Conv2d(1, 32, 5)\n",
    "        self.conv2 = nn.Conv2d(32, 64, 5)\n",
    "        self.conv3 = nn.Conv2d(64, 128, 5)\n",
    "\n",
    "        self._to_linear = None\n",
    "        self.convs(torch.randn(50,50).view(-1,1,50,50)) # to figure out input shape of fc1\n",
    "\n",
    "        self.fc1 = nn.Linear(self._to_linear, 512)\n",
    "        self.fc2 = nn.Linear(512, 2) \n",
    "\n",
    "    def convs(self, x):\n",
    "        x = F.max_pool2d(F.relu(self.conv1(x)), (2, 2))\n",
    "        x = F.max_pool2d(F.relu(self.conv2(x)), (2, 2))\n",
    "        x = F.max_pool2d(F.relu(self.conv3(x)), (2, 2))\n",
    "\n",
    "        if self._to_linear is None:\n",
    "            self._to_linear = x[0].shape[0]*x[0].shape[1]*x[0].shape[2]\n",
    "        return x\n",
    "\n",
    "    def forward(self, x):\n",
    "        x = self.convs(x)\n",
    "        x = x.view(-1, self._to_linear) \n",
    "        x = F.relu(self.fc1(x))\n",
    "        x = self.fc2(x)\n",
    "        return F.softmax(x, dim=1)\n"
   ]
  },
  {
   "cell_type": "markdown",
   "id": "olive-argument",
   "metadata": {},
   "source": [
    "### Enable GPU if available"
   ]
  },
  {
   "cell_type": "code",
   "execution_count": 8,
   "id": "trying-secondary",
   "metadata": {},
   "outputs": [
    {
     "name": "stdout",
     "output_type": "stream",
     "text": [
      "Running on the GPU\n",
      "Net(\n",
      "  (conv1): Conv2d(1, 32, kernel_size=(5, 5), stride=(1, 1))\n",
      "  (conv2): Conv2d(32, 64, kernel_size=(5, 5), stride=(1, 1))\n",
      "  (conv3): Conv2d(64, 128, kernel_size=(5, 5), stride=(1, 1))\n",
      "  (fc1): Linear(in_features=512, out_features=512, bias=True)\n",
      "  (fc2): Linear(in_features=512, out_features=2, bias=True)\n",
      ")\n"
     ]
    }
   ],
   "source": [
    "if torch.cuda.is_available():\n",
    "    device = torch.device(\"cuda:0\") \n",
    "    print(\"Running on the GPU\")\n",
    "else:\n",
    "    device = torch.device(\"cpu\")\n",
    "    print(\"Running on the CPU\")\n",
    "\n",
    "net = Net().to(device)\n",
    "print(net)\n"
   ]
  },
  {
   "cell_type": "markdown",
   "id": "independent-stopping",
   "metadata": {},
   "source": [
    "### Split data set into training and testing "
   ]
  },
  {
   "cell_type": "code",
   "execution_count": 9,
   "id": "restricted-marina",
   "metadata": {},
   "outputs": [],
   "source": [
    "def get_train_test_data(training_data, VAL_PCT = 0.1):\n",
    "    \n",
    "    X = torch.Tensor([i[0] for i in training_data]).view(-1,50,50)\n",
    "    X = X/255.0\n",
    "    y = torch.Tensor([i[1] for i in training_data])\n",
    "\n",
    "    val_size = int(len(X)*VAL_PCT)\n",
    "\n",
    "    train_X = X[:-val_size]\n",
    "    train_y = y[:-val_size]\n",
    "\n",
    "    test_X = X[-val_size:]\n",
    "    test_y = y[-val_size:]\n",
    "    \n",
    "    return train_X.to(device), train_y.to(device), test_X.to(device), test_y.to(device)\n",
    "\n",
    "train_X, train_y, test_X, test_y = get_train_test_data(training_data)\n",
    "    "
   ]
  },
  {
   "cell_type": "markdown",
   "id": "dirty-cassette",
   "metadata": {},
   "source": [
    "### Forward Pass and test function for both training and validation"
   ]
  },
  {
   "cell_type": "code",
   "execution_count": 10,
   "id": "dutch-investigator",
   "metadata": {},
   "outputs": [],
   "source": [
    "import torch.optim as optim\n",
    "\n",
    "optimizer = optim.Adam(net.parameters(), lr=0.001)\n",
    "loss_function = nn.MSELoss()\n",
    "\n",
    "def fwd_pass(X, y, train=False):\n",
    "\n",
    "    if train:\n",
    "        net.zero_grad()\n",
    "    outputs = net(X)\n",
    "\n",
    "    matches  = [torch.argmax(i)==torch.argmax(j) for i, j in zip(outputs, y)]\n",
    "    acc = matches.count(True)/len(matches)\n",
    "    loss = loss_function(outputs, y)\n",
    "\n",
    "    if train:\n",
    "        loss.backward()\n",
    "        optimizer.step()\n",
    "\n",
    "    return acc, loss"
   ]
  },
  {
   "cell_type": "code",
   "execution_count": 11,
   "id": "surprising-fraction",
   "metadata": {},
   "outputs": [],
   "source": [
    "def validation_test(size=100):\n",
    "    \n",
    "    random_start = np.random.randint(len(test_X)-size)\n",
    "    \n",
    "    X, y = test_X[random_start:random_start+size], test_y[random_start:random_start+size]\n",
    "    val_acc, val_loss = fwd_pass(X.view(-1, 1, 50, 50), y)\n",
    "    return val_acc, val_loss\n"
   ]
  },
  {
   "cell_type": "markdown",
   "id": "prescription-abuse",
   "metadata": {},
   "source": [
    "### Training"
   ]
  },
  {
   "cell_type": "code",
   "execution_count": 12,
   "id": "absent-brazilian",
   "metadata": {},
   "outputs": [
    {
     "name": "stderr",
     "output_type": "stream",
     "text": [
      "100%|██████████| 104/104 [00:03<00:00, 30.72it/s]\n",
      "100%|██████████| 104/104 [00:03<00:00, 30.98it/s]\n",
      "100%|██████████| 104/104 [00:03<00:00, 29.14it/s]\n",
      "100%|██████████| 104/104 [00:03<00:00, 27.83it/s]\n",
      "100%|██████████| 104/104 [00:03<00:00, 30.97it/s]\n",
      "100%|██████████| 104/104 [00:03<00:00, 31.03it/s]\n",
      "100%|██████████| 104/104 [00:03<00:00, 28.74it/s]\n",
      "100%|██████████| 104/104 [00:03<00:00, 28.90it/s]\n",
      "100%|██████████| 104/104 [00:03<00:00, 28.27it/s]\n",
      "100%|██████████| 104/104 [00:03<00:00, 30.68it/s]\n",
      "100%|██████████| 104/104 [00:03<00:00, 30.48it/s]\n",
      "100%|██████████| 104/104 [00:03<00:00, 30.73it/s]\n",
      "100%|██████████| 104/104 [00:03<00:00, 30.44it/s]\n",
      "100%|██████████| 104/104 [00:03<00:00, 28.24it/s]\n",
      "100%|██████████| 104/104 [00:03<00:00, 28.55it/s]\n",
      "100%|██████████| 104/104 [00:03<00:00, 29.01it/s]\n",
      "100%|██████████| 104/104 [00:03<00:00, 30.47it/s]\n",
      "100%|██████████| 104/104 [00:03<00:00, 29.86it/s]\n",
      "100%|██████████| 104/104 [00:03<00:00, 30.10it/s]\n",
      "100%|██████████| 104/104 [00:03<00:00, 30.53it/s]\n",
      "100%|██████████| 104/104 [00:03<00:00, 30.36it/s]\n",
      "100%|██████████| 104/104 [00:03<00:00, 30.27it/s]\n",
      "100%|██████████| 104/104 [00:03<00:00, 30.31it/s]\n",
      "100%|██████████| 104/104 [00:03<00:00, 29.61it/s]\n",
      "100%|██████████| 104/104 [00:03<00:00, 30.02it/s]\n",
      "100%|██████████| 104/104 [00:03<00:00, 30.33it/s]\n",
      "100%|██████████| 104/104 [00:03<00:00, 30.25it/s]\n",
      "100%|██████████| 104/104 [00:03<00:00, 30.05it/s]\n",
      "100%|██████████| 104/104 [00:03<00:00, 29.75it/s]\n",
      "100%|██████████| 104/104 [00:03<00:00, 29.99it/s]\n"
     ]
    }
   ],
   "source": [
    "import time\n",
    "\n",
    "def get_model_results_dict():\n",
    "    return({\n",
    "        \"times\": [],\n",
    "        \"accuracies\": [],\n",
    "        \"losses\": [],\n",
    "        \"val_accs\": [],\n",
    "        \"val_losses\": []\n",
    "    })\n",
    "\n",
    "def train(net, BATCH_SIZE = 100, EPOCHS = 2):\n",
    "    model_results_dict = get_model_results_dict()\n",
    "    \n",
    "    for epoch in range(EPOCHS):\n",
    "        for i in tqdm(range(0, len(train_X), BATCH_SIZE)):\n",
    "            batch_X = train_X[i:i+BATCH_SIZE].view(-1,1,50,50)\n",
    "            batch_y = train_y[i:i+BATCH_SIZE]\n",
    "\n",
    "            batch_X, batch_y = batch_X, batch_y\n",
    "\n",
    "            acc, loss = fwd_pass(batch_X, batch_y, train=True)\n",
    "\n",
    "            if i % 50 == 0:\n",
    "                val_acc, val_loss = validation_test(size=100)\n",
    "                \n",
    "                model_results_dict[\"times\"].append(round(time.time(),3))\n",
    "                model_results_dict[\"accuracies\"].append(round(float(acc),2))\n",
    "                model_results_dict[\"losses\"].append(round(float(loss), 4))\n",
    "                model_results_dict[\"val_accs\"].append(round(float(val_acc),2))\n",
    "                model_results_dict[\"val_losses\"].append(round(float(val_loss),4))\n",
    "                \n",
    "    return(model_results_dict)\n",
    "\n",
    "results = train(net, EPOCHS = 30)"
   ]
  },
  {
   "cell_type": "markdown",
   "id": "honest-royalty",
   "metadata": {},
   "source": [
    "### Validation Results"
   ]
  },
  {
   "cell_type": "code",
   "execution_count": 13,
   "id": "muslim-internship",
   "metadata": {},
   "outputs": [
    {
     "data": {
      "text/plain": [
       "<Figure size 432x288 with 0 Axes>"
      ]
     },
     "metadata": {},
     "output_type": "display_data"
    },
    {
     "data": {
      "image/png": "[encoded data removed]",
      "text/plain": [
       "<Figure size 576x432 with 2 Axes>"
      ]
     },
     "metadata": {
      "needs_background": "light"
     },
     "output_type": "display_data"
    }
   ],
   "source": [
    "import matplotlib.pyplot as plt\n",
    "\n",
    "def create_acc_loss_graph(results):\n",
    "    \n",
    "    fig = plt.figure()\n",
    "    plt.figure(figsize=(8,6))\n",
    "    \n",
    "    ax1 = plt.subplot2grid((2,1), (0,0))\n",
    "    ax2 = plt.subplot2grid((2,1), (1,0), sharex=ax1)\n",
    "\n",
    "\n",
    "    ax1.plot(results[\"times\"], results[\"accuracies\"], label=\"acc\")\n",
    "    ax1.plot(results[\"times\"], results[\"val_accs\"], label=\"val_acc\")\n",
    "    ax1.legend(loc=2)\n",
    "    \n",
    "    ax2.plot(results[\"times\"],results[\"losses\"], label=\"loss\")\n",
    "    ax2.plot(results[\"times\"],results[\"val_losses\"], label=\"val_loss\")\n",
    "    ax2.legend(loc=2)\n",
    "    \n",
    "    plt.show()\n",
    "\n",
    "create_acc_loss_graph(results)"
   ]
  },
  {
   "cell_type": "code",
   "execution_count": 28,
   "id": "unauthorized-dinner",
   "metadata": {},
   "outputs": [
    {
     "name": "stdout",
     "output_type": "stream",
     "text": [
      "Initial Validation Accuracy: 56.00%\n",
      "Initial Validation Loss: 0.2473\n",
      "\n",
      "Final Validation Accuracy: 92.00%\n",
      "Final Validation Loss: 0.0584\n"
     ]
    }
   ],
   "source": [
    "print(f'Initial Validation Accuracy: {results[\"val_accs\"][0] * 100:.2f}%')\n",
    "print(f'Initial Validation Loss: {results[\"val_losses\"][0]}\\n')\n",
    "\n",
    "print(f'Final Validation Accuracy: {results[\"val_accs\"][-1] * 100:.2f}%')\n",
    "print(f'Final Validation Loss: {results[\"val_losses\"][-1]}')"
   ]
  },
  {
   "cell_type": "code",
   "execution_count": 27,
   "id": "nearby-vision",
   "metadata": {},
   "outputs": [
    {
     "name": "stdout",
     "output_type": "stream",
     "text": [
      "Initial Training Accuracy: 48.00%\n",
      "Initial Training Loss: 0.2502\n",
      "\n",
      "Final Training Accuracy: 99.00%\n",
      "Final Training Loss: 0.0037\n"
     ]
    }
   ],
   "source": [
    "print(f'Initial Training Accuracy: {results[\"accuracies\"][0] * 100:.2f}%')\n",
    "print(f'Initial Training Loss: {results[\"losses\"][0]}\\n')\n",
    "\n",
    "print(f'Final Training Accuracy: {results[\"accuracies\"][-1] * 100:.2f}%')\n",
    "print(f'Final Training Loss: {results[\"losses\"][-1]}')"
   ]
  }
 ],
 "metadata": {
  "kernelspec": {
   "display_name": "Python 3",
   "language": "python",
   "name": "python3"
  },
  "language_info": {
   "codemirror_mode": {
    "name": "ipython",
    "version": 3
   },
   "file_extension": ".py",
   "mimetype": "text/x-python",
   "name": "python",
   "nbconvert_exporter": "python",
   "pygments_lexer": "ipython3",
   "version": "3.8.3"
  }
 },
 "nbformat": 4,
 "nbformat_minor": 5
}
